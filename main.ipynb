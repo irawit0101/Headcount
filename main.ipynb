{
 "cells": [
  {
   "cell_type": "code",
   "execution_count": 1,
   "id": "881458af",
   "metadata": {},
   "outputs": [],
   "source": [
    "from tkinter import*\n",
    "from tkinter import ttk\n",
    "from PIL import Image,ImageTk"
   ]
  },
  {
   "cell_type": "code",
   "execution_count": 25,
   "id": "35c2c18d",
   "metadata": {
    "scrolled": true
   },
   "outputs": [
    {
     "name": "stderr",
     "output_type": "stream",
     "text": [
      "C:\\Users\\Priyanshu Tiwari\\AppData\\Local\\Temp\\ipykernel_12244\\1975880812.py:9: DeprecationWarning: ANTIALIAS is deprecated and will be removed in Pillow 10 (2023-07-01). Use Resampling.LANCZOS instead.\n",
      "  img=img.resize((1530,840),Image.ANTIALIAS)\n",
      "C:\\Users\\Priyanshu Tiwari\\AppData\\Local\\Temp\\ipykernel_12244\\1975880812.py:17: DeprecationWarning: ANTIALIAS is deprecated and will be removed in Pillow 10 (2023-07-01). Use Resampling.LANCZOS instead.\n",
      "  a_img=a_img.resize((220,220),Image.ANTIALIAS)\n",
      "C:\\Users\\Priyanshu Tiwari\\AppData\\Local\\Temp\\ipykernel_12244\\1975880812.py:28: DeprecationWarning: ANTIALIAS is deprecated and will be removed in Pillow 10 (2023-07-01). Use Resampling.LANCZOS instead.\n",
      "  r_img=r_img.resize((220,220),Image.ANTIALIAS)\n"
     ]
    }
   ],
   "source": [
    "class face_recognition_system:\n",
    "    def __init__(self,root):\n",
    "        self.root=root\n",
    "        self.root.geometry(\"1530x790+0+0\")\n",
    "        self.root.title(\"face recognition system\")\n",
    "        \n",
    "        # background image\n",
    "        img= Image.open(r\"D:\\Python\\Images\\bg_img.jpg\")\n",
    "        img=img.resize((1530,840),Image.ANTIALIAS)\n",
    "        self.photoimg=ImageTk.PhotoImage(img)\n",
    "        \n",
    "       \n",
    "        \n",
    "        #attendance button\n",
    "        a_img=Image.open(r\"D:\\Python\\Images\\Attendance.jpg\")\n",
    "        a_img=a_img.resize((220,220),Image.ANTIALIAS)\n",
    "        self.attendance_img=ImageTk.PhotoImage(a_img)\n",
    "        \n",
    "        b1=Button(bg_img,image=self.attendance_img,cursor=\"hand2\" )\n",
    "        b1.place(x=200,y=200,width=220,height=220)\n",
    "        \n",
    "        b1_1=Button(bg_img,text=\"Attendance\",cursor=\"hand2\",font=(\"Helvetica 18\",15,\"bold\"))\n",
    "        b1_1.place(x=200,y=400,width=220,height=40)\n",
    "        \n",
    "        #registration button\n",
    "        r_img=Image.open(r\"D:\\Python\\Images\\new_registratioon\")\n",
    "        r_img=r_img.resize((220,220),Image.ANTIALIAS)\n",
    "        self.registration_img=ImageTk.PhotoImage(r_img)\n",
    "        \n",
    "        b2=Button(bg_img,image=self.registration_img,cursor=\"hand2\" )\n",
    "        b2.place(x=200,y=500,width=220,height=220)\n",
    "        \n",
    "        b2_2=Button(bg_img,text=\"Registration\",cursor=\"hand2\",font=(\"Helvetica 18\",15,\"bold\"))\n",
    "        b2_2.place(x=200,y=700,width=220,height=40)\n",
    "        \n",
    "        \n",
    "        \n",
    "        \n",
    "        \n",
    "        \n",
    "if __name__==\"__main__\":\n",
    "    root=Tk()\n",
    "    obj=face_recognition_system(root)\n",
    "    root.mainloop()"
   ]
  }
 ],
 "metadata": {
  "kernelspec": {
   "display_name": "Python 3 (ipykernel)",
   "language": "python",
   "name": "python3"
  },
  "language_info": {
   "codemirror_mode": {
    "name": "ipython",
    "version": 3
   },
   "file_extension": ".py",
   "mimetype": "text/x-python",
   "name": "python",
   "nbconvert_exporter": "python",
   "pygments_lexer": "ipython3",
   "version": "3.9.13"
  }
 },
 "nbformat": 4,
 "nbformat_minor": 5
}
